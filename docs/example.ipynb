{
    "cells": [
        {
            "cell_type": "markdown",
            "metadata": {},
            "source": [
                "## Exploring `fml_doc_gen`"
            ]
        },
        {
            "cell_type": "markdown",
            "metadata": {},
            "source": [
                "Let's say you have the following function you want to generate the documentation for:"
            ]
        },
        {
            "cell_type": "code",
            "execution_count": 13,
            "metadata": {},
            "outputs": [],
            "source": [
                "def square(base: int, pow: int) -> int:\n",
                "    return base ** pow"
            ]
        },
        {
            "cell_type": "markdown",
            "metadata": {},
            "source": [
                "<!-- <div class=\"alert alert-info\">  -->\n",
                "<h3>\n",
                "    But you forgot what the template looks like? Don’t worry!\n",
                "</h3>\n",
                "\n",
                "This is where `fml_doc_gen` comes to the rescue.\n",
                "\n",
                "<b>To get started, simply import our package:</b>\n",
                "<!-- </div> -->"
            ]
        },
        {
            "cell_type": "code",
            "execution_count": 17,
            "metadata": {},
            "outputs": [
                {
                    "name": "stdout",
                    "output_type": "stream",
                    "text": [
                        "0.0.1\n"
                    ]
                }
            ],
            "source": [
                "import fml_doc_gen\n",
                "from fml_doc_gen.fml_doc_gen import generate_docstring_template\n",
                "\n",
                "print(fml_doc_gen.__version__)"
            ]
        },
        {
            "cell_type": "markdown",
            "metadata": {},
            "source": [
                "<b>Simply pass your function to ours to generate the documentation effortlessly:</b>"
            ]
        },
        {
            "cell_type": "code",
            "execution_count": 18,
            "metadata": {},
            "outputs": [
                {
                    "name": "stdout",
                    "output_type": "stream",
                    "text": [
                        "\n",
                        "    square: \n",
                        "    ### INSERT FUNCTION DEFINITION HERE ###\n",
                        "    \n",
                        "    Parameters:\n",
                        "    ----------\n",
                        "    \n",
                        "    base: int\n",
                        "    ### INSERT PARAMETER DEFINITION HERE ###\n",
                        "    \n",
                        "\n",
                        "    pow: int\n",
                        "    ### INSERT PARAMETER DEFINITION HERE ###\n",
                        "    \n",
                        "\n",
                        "\n",
                        "    \n",
                        "    Returns:\n",
                        "    -------\n",
                        "    int\n",
                        "        ### INSERT ADDITIONAL FUNCTION OUTPUT INFORMATION HERE ###\n",
                        "\n",
                        "      \n",
                        "    Examples:\n",
                        "    --------\n",
                        "    ### INSERT FUNCTION EXAMPLE USAGES HERE ###\n",
                        "\n"
                    ]
                }
            ],
            "source": [
                "documentation = generate_docstring_template(square, output_file=None)\n",
                "print(documentation)"
            ]
        },
        {
            "cell_type": "markdown",
            "metadata": {},
            "source": [
                "Then you can copy this and make your function fully documentaed as follows"
            ]
        },
        {
            "cell_type": "markdown",
            "metadata": {},
            "source": [
                "```python\n",
                "def square(base: int, pow: int) -> int:\n",
                "    \"\"\"\n",
                "    square: \n",
                "    ### INSERT FUNCTION DEFINITION HERE ###\n",
                "    \n",
                "    Parameters:\n",
                "    ----------\n",
                "    \n",
                "    base: int\n",
                "    ### INSERT PARAMETER DEFINITION HERE ###\n",
                "    \n",
                "\n",
                "    pow: int\n",
                "    ### INSERT PARAMETER DEFINITION HERE ###\n",
                "    \n",
                "    \n",
                "    Returns:\n",
                "    -------\n",
                "    int\n",
                "        ### INSERT ADDITIONAL FUNCTION OUTPUT INFORMATION HERE ###\n",
                "\n",
                "      \n",
                "    Examples:\n",
                "    --------\n",
                "    ### INSERT FUNCTION EXAMPLE USAGES HERE ###\n",
                "\n",
                "    \"\"\"\n",
                "    \n",
                "    return base ** pow\n",
                "\n",
                "```"
            ]
        },
        {
            "cell_type": "markdown",
            "metadata": {},
            "source": [
                "<h3>This is just what you needed, right?</h3>\n",
                "\n",
                "But wait—there’s more! You can even save the generated documentation to a file.\n",
                "\n",
                "Simply pass a file path to the previous function:"
            ]
        },
        {
            "cell_type": "code",
            "execution_count": 19,
            "metadata": {},
            "outputs": [
                {
                    "name": "stdout",
                    "output_type": "stream",
                    "text": [
                        "\n",
                        "    square: \n",
                        "    ### INSERT FUNCTION DEFINITION HERE ###\n",
                        "    \n",
                        "    Parameters:\n",
                        "    ----------\n",
                        "    \n",
                        "    base: int\n",
                        "    ### INSERT PARAMETER DEFINITION HERE ###\n",
                        "    \n",
                        "\n",
                        "    pow: int\n",
                        "    ### INSERT PARAMETER DEFINITION HERE ###\n",
                        "    \n",
                        "\n",
                        "\n",
                        "    \n",
                        "    Returns:\n",
                        "    -------\n",
                        "    int\n",
                        "        ### INSERT ADDITIONAL FUNCTION OUTPUT INFORMATION HERE ###\n",
                        "\n",
                        "      \n",
                        "    Examples:\n",
                        "    --------\n",
                        "    ### INSERT FUNCTION EXAMPLE USAGES HERE ###\n",
                        "\n"
                    ]
                }
            ],
            "source": [
                "documentation = generate_docstring_template(square, output_file=\"./doc.txt\")\n",
                "print(documentation)"
            ]
        },
        {
            "cell_type": "markdown",
            "metadata": {},
            "source": [
                "<b> Even if you don't have the output file, we will create it for you. </b>"
            ]
        },
        {
            "cell_type": "markdown",
            "metadata": {},
            "source": [
                "![Documentation Example](doc_img.png)"
            ]
        },
        {
            "cell_type": "markdown",
            "metadata": {},
            "source": [
                "<div class=\"alert alert-warning\">\n",
                "    <h3> \n",
                "        Unsure about writing documentation? We’ve got you covered! \n",
                "    </h3> \n",
                "\n",
                "Simply pass the `auto_generate` parameter to our function, and we’ll create the documentation for you automatically.\n",
                "\n",
                "<b>\n",
                "    Note: This feature is currently under development and will be available soon. Stay tuned!\n",
                "</b>\n",
                "</div>\n"
            ]
        },
        {
            "cell_type": "code",
            "execution_count": 12,
            "metadata": {},
            "outputs": [
                {
                    "name": "stdout",
                    "output_type": "stream",
                    "text": [
                        "CALL OPEN AI API HERE\n"
                    ]
                }
            ],
            "source": [
                "documentation = generate_docstring_template(square, output_file=None, auto_generate=True)\n",
                "print(documentation)"
            ]
        }
    ],
    "metadata": {
        "kernelspec": {
            "display_name": "fml",
            "language": "python",
            "name": "python3"
        },
        "language_info": {
            "codemirror_mode": {
                "name": "ipython",
                "version": 3
            },
            "file_extension": ".py",
            "mimetype": "text/x-python",
            "name": "python",
            "nbconvert_exporter": "python",
            "pygments_lexer": "ipython3",
            "version": "3.10.16"
        }
    },
    "nbformat": 4,
    "nbformat_minor": 4
}

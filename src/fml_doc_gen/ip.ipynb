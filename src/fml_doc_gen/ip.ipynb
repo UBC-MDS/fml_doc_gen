{
 "cells": [
  {
   "cell_type": "code",
   "execution_count": 13,
   "metadata": {},
   "outputs": [],
   "source": [
    "import os"
   ]
  },
  {
   "cell_type": "code",
   "execution_count": 24,
   "metadata": {},
   "outputs": [
    {
     "name": "stdout",
     "output_type": "stream",
     "text": [
      "Updated doc string file\n"
     ]
    }
   ],
   "source": [
    "docstring = \"\"\"This is a test!\"\"\"\n",
    "output_path = \"../fml_doc_gen/docstring_output.txt\"\n",
    "\n",
    "#check if output_path is a file or dir, check if it has right extension\n",
    "if os.path.isfile(output_path) and os.access(output_path, os.R_OK):\n",
    "    if isinstance(docstring, str):\n",
    "        file = open(output_path, \"w\")\n",
    "        file.write(docstring)\n",
    "        file.close()\n",
    "        print(\"Updated doc string file\")\n",
    "\n",
    "    else:\n",
    "        file = open(output_path, \"a\")\n",
    "        file.write(docstring)\n",
    "        file.close()\n",
    "        print(\"Generated the doc string\")\n",
    "else:\n",
    "    print(docstring)\n"
   ]
  }
 ],
 "metadata": {
  "kernelspec": {
   "display_name": "test_env",
   "language": "python",
   "name": "python3"
  },
  "language_info": {
   "codemirror_mode": {
    "name": "ipython",
    "version": 3
   },
   "file_extension": ".py",
   "mimetype": "text/x-python",
   "name": "python",
   "nbconvert_exporter": "python",
   "pygments_lexer": "ipython3",
   "version": "3.11.10"
  }
 },
 "nbformat": 4,
 "nbformat_minor": 2
}
